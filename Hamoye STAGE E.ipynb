{
 "cells": [
  {
   "cell_type": "code",
   "execution_count": null,
   "id": "3cff819f",
   "metadata": {},
   "outputs": [],
   "source": [
    "import numpy as np\n",
    "import pandas as pd\n",
    "import matplotlib.pyplot as plt\n",
    "from datetime import datetime\n",
    "import statsmodels.api as sm\n",
    "from pylab import rcParams\n",
    "rcParams[ 'figure.figsize' ] = 15 , 8 \n",
    "\n",
    "#from fbprophet import Prophet"
   ]
  },
  {
   "cell_type": "code",
   "execution_count": null,
   "id": "d757251a",
   "metadata": {},
   "outputs": [],
   "source": [
    "df = pd.read_csv('Time_series_analysis_and_forecast_DATASET.csv')"
   ]
  },
  {
   "cell_type": "code",
   "execution_count": null,
   "id": "c29845f0",
   "metadata": {},
   "outputs": [],
   "source": [
    "df.head()"
   ]
  },
  {
   "cell_type": "code",
   "execution_count": null,
   "id": "cec8e582",
   "metadata": {},
   "outputs": [],
   "source": [
    "df.shape"
   ]
  },
  {
   "cell_type": "code",
   "execution_count": null,
   "id": "15421719",
   "metadata": {},
   "outputs": [],
   "source": [
    "df.isna().sum()"
   ]
  },
  {
   "cell_type": "code",
   "execution_count": null,
   "id": "24284bdc",
   "metadata": {},
   "outputs": [],
   "source": [
    "df.dtypes"
   ]
  },
  {
   "cell_type": "code",
   "execution_count": null,
   "id": "604beb13",
   "metadata": {},
   "outputs": [],
   "source": [
    "#convert to datetime\n",
    "df.FullDate = pd.to_datetime(df[ \"FullDate\" ])"
   ]
  },
  {
   "cell_type": "code",
   "execution_count": null,
   "id": "3b5089e0",
   "metadata": {},
   "outputs": [],
   "source": [
    "df.dtypes"
   ]
  },
  {
   "cell_type": "code",
   "execution_count": null,
   "id": "31c25b44",
   "metadata": {},
   "outputs": [],
   "source": [
    "df.set_index( \"FullDate\" , inplace= True ) "
   ]
  },
  {
   "cell_type": "code",
   "execution_count": null,
   "id": "8c2f196e",
   "metadata": {
    "scrolled": true
   },
   "outputs": [],
   "source": [
    "plt.figure(figsize=( 10 , 6 ))\n",
    "plt.plot(df.index, df.ElecPrice, '--' , marker= '*' , )\n",
    "plt.grid()\n",
    "plt.xlabel( 'Year' )\n",
    "plt.ylabel( 'Electricity Price' )"
   ]
  },
  {
   "cell_type": "code",
   "execution_count": null,
   "id": "448e58ab",
   "metadata": {},
   "outputs": [],
   "source": [
    "#Downsample to quarterly data points \n",
    "df_qtr = df.resample( '3M' ).mean()"
   ]
  },
  {
   "cell_type": "code",
   "execution_count": null,
   "id": "f87d87f8",
   "metadata": {},
   "outputs": [],
   "source": [
    "#Upsample to daily data points\n",
    "df_hlf = df.resample( '6M' ).mean()"
   ]
  },
  {
   "cell_type": "code",
   "execution_count": null,
   "id": "1750001a",
   "metadata": {},
   "outputs": [],
   "source": [
    "plt.figure(figsize=( 15 , 6 ))\n",
    "plt.subplot(1,2,1)\n",
    "plt.plot(df_qtr.index, df_qtr.ElecPrice, '--' , marker= '*' , )\n",
    "plt.grid()\n",
    "plt.xlabel( 'Year' )\n",
    "plt.ylabel( 'Electricity Price' )\n",
    "\n",
    "plt.subplot(1,2,2)\n",
    "plt.plot(df_hlf.index, df_hlf.ElecPrice, '--' , marker= '*' , )\n",
    "plt.grid()\n",
    "plt.xlabel( 'Year' )\n",
    "plt.ylabel( 'Electricity Price' )"
   ]
  },
  {
   "cell_type": "code",
   "execution_count": null,
   "id": "09f37d80",
   "metadata": {},
   "outputs": [],
   "source": [
    "df_MA = df.copy()\n",
    "MA = df_MA[ 'ElecPrice' ].rolling( 12 ).mean()\n",
    "MA"
   ]
  },
  {
   "cell_type": "code",
   "execution_count": null,
   "id": "b4431707",
   "metadata": {
    "scrolled": true
   },
   "outputs": [],
   "source": [
    "df.dtypes"
   ]
  },
  {
   "cell_type": "code",
   "execution_count": null,
   "id": "efc806e4",
   "metadata": {},
   "outputs": [],
   "source": [
    "df_hr = df.resample( 'H' ).mean()"
   ]
  },
  {
   "cell_type": "code",
   "execution_count": null,
   "id": "15c9cf1a",
   "metadata": {},
   "outputs": [],
   "source": [
    "df_dly = df_hr.resample( 'D' ).sum()"
   ]
  },
  {
   "cell_type": "code",
   "execution_count": null,
   "id": "1de1bc18",
   "metadata": {},
   "outputs": [],
   "source": [
    "plt.plot(df_dly.index, df_dly.ElecPrice, '--' , marker= '*' , )\n",
    "plt.grid()\n",
    "plt.xlabel( 'Year' )\n",
    "plt.ylabel( 'Electricity Price' )"
   ]
  },
  {
   "cell_type": "code",
   "execution_count": null,
   "id": "7e556965",
   "metadata": {},
   "outputs": [],
   "source": [
    "from statsmodels.tsa.stattools import adfuller\n",
    "adf_result = adfuller(df_dly[ 'SysLoad' ])\n",
    "print( f'ADF Statistic: {adf_result[ 0 ]}' )\n",
    "print( f'p-value: {adf_result[ 1 ]}' )\n",
    "print( f'No. of lags used: {adf_result[ 2 ]}' )\n",
    "print( f'No. of observations used : {adf_result[ 3 ]}' )\n",
    "print( 'Critical Values:' )\n",
    "for k, v in adf_result[ 4 ].items():\n",
    "    print( f' {k} : {v} ' )"
   ]
  },
  {
   "cell_type": "code",
   "execution_count": null,
   "id": "ec32ddc0",
   "metadata": {},
   "outputs": [],
   "source": [
    "adf_results = adfuller(df_dly[ 'GasPrice' ])\n",
    "print( f'ADF Statistic: {adf_results[ 0 ]}' )\n",
    "print( f'p-value: {adf_results[ 1 ]}' )\n",
    "print( f'No. of lags used: {adf_results[ 2 ]}' )\n",
    "print( f'No. of observations used : {adf_results[ 3 ]}' )\n",
    "print( 'Critical Values:' )\n",
    "for k, v in adf_results[ 4 ].items():\n",
    "    print( f' {k} : {v} ' )"
   ]
  },
  {
   "cell_type": "code",
   "execution_count": null,
   "id": "7dc702ba",
   "metadata": {
    "scrolled": false
   },
   "outputs": [],
   "source": [
    "adf_res = adfuller(df_dly[ 'ElecPrice' ])\n",
    "print( f'ADF Statistic: {adf_res[ 0 ]}' )\n",
    "print( f'p-value: {adf_res[ 1 ]}' )\n",
    "print( f'No. of lags used: {adf_res[ 2 ]}' )\n",
    "print( f'No. of observations used : {adf_res[ 3 ]}' )\n",
    "print( 'Critical Values:' )\n",
    "for k, v in adf_results[ 4 ].items():\n",
    "    print( f' {k} : {v} ' )"
   ]
  },
  {
   "cell_type": "code",
   "execution_count": null,
   "id": "74ee6e95",
   "metadata": {},
   "outputs": [],
   "source": []
  }
 ],
 "metadata": {
  "kernelspec": {
   "display_name": "Python 3 (ipykernel)",
   "language": "python",
   "name": "python3"
  },
  "language_info": {
   "codemirror_mode": {
    "name": "ipython",
    "version": 3
   },
   "file_extension": ".py",
   "mimetype": "text/x-python",
   "name": "python",
   "nbconvert_exporter": "python",
   "pygments_lexer": "ipython3",
   "version": "3.9.12"
  }
 },
 "nbformat": 4,
 "nbformat_minor": 5
}
